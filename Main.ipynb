{
 "cells": [
  {
   "cell_type": "code",
   "execution_count": 56,
   "metadata": {},
   "outputs": [],
   "source": [
    "import pandas as pd\n",
    "import numpy as np\n",
    "\n",
    "\n",
    "import re\n",
    "import string\n",
    "\n",
    "#NLTK\n",
    "from nltk.corpus import stopwords\n",
    "from nltk.stem import PorterStemmer\n",
    "from nltk.tokenize import TweetTokenizer\n",
    "\n",
    "#Date-time\n",
    "from datetime import datetime\n",
    "import dateutil.parser as dparser\n"
   ]
  },
  {
   "cell_type": "code",
   "execution_count": 2,
   "metadata": {},
   "outputs": [],
   "source": [
    "trump_raw = pd.read_csv(\"D:\\Codes\\PROJECT 2\\hashtag_donaldtrump.csv\",\n",
    "                 lineterminator='\\n')\n"
   ]
  },
  {
   "cell_type": "code",
   "execution_count": 3,
   "metadata": {},
   "outputs": [],
   "source": [
    "biden_raw = pd.read_csv(\"D:\\Codes\\PROJECT 2\\hashtag_joebiden.csv\",\n",
    "                 lineterminator='\\n')\n",
    "                 "
   ]
  },
  {
   "cell_type": "code",
   "execution_count": 18,
   "metadata": {},
   "outputs": [
    {
     "name": "stdout",
     "output_type": "stream",
     "text": [
      "This data has (rows x col)(675765, 14)\n",
      "total NaN values in this dataFrame: 233165\n"
     ]
    }
   ],
   "source": [
    "#Removes columns of data with very high Na values. \n",
    "trump=trump_raw.drop(['user_description','long','lat','city','continent',\n",
    "'state','state_code'], axis=1)\n",
    "\n",
    "#remove rows of data with less NaN values\n",
    "trump=trump.dropna(subset=['user_name','source','user_location'])\n",
    "\n",
    "print(f\"This data has (rows x col){trump.shape}\")\n",
    "print(f\"total NaN values in this dataFrame: {trump.isna().sum().sum()}\")\n"
   ]
  },
  {
   "cell_type": "code",
   "execution_count": 19,
   "metadata": {},
   "outputs": [
    {
     "name": "stdout",
     "output_type": "stream",
     "text": [
      "This data has (rows x col)(542952, 14)\n",
      "total NaN values in this dataFrame: 189262\n"
     ]
    }
   ],
   "source": [
    "#Removes columns of data with very high Na values. \n",
    "biden=biden_raw.drop(['user_description','long','lat','city','continent',\n",
    "'state','state_code'], axis=1)\n",
    "\n",
    "#remove rows of data with less NaN values\n",
    "biden=biden.dropna(subset=['user_name','source','user_location'])\n",
    "\n",
    "print(f\"This data has (rows x col){biden.shape}\")\n",
    "print(f\"total NaN values in this dataFrame: {biden.isna().sum().sum()}\")"
   ]
  },
  {
   "cell_type": "code",
   "execution_count": 20,
   "metadata": {},
   "outputs": [],
   "source": [
    "#Add ac column of T and a column of B in trump and biden respectively to easily be able to identify them\n",
    "trump['candidate']='T'\n",
    "biden['candidate']='B'"
   ]
  },
  {
   "cell_type": "code",
   "execution_count": 21,
   "metadata": {},
   "outputs": [
    {
     "data": {
      "text/plain": [
       "0    Philadelphia, PA / Miami, FL\n",
       "2                        Portland\n",
       "4                   Washington DC\n",
       "5               Perris,California\n",
       "6                      Powell, TN\n",
       "Name: user_location, dtype: object"
      ]
     },
     "execution_count": 21,
     "metadata": {},
     "output_type": "execute_result"
    }
   ],
   "source": [
    "trump['user_location'].head()"
   ]
  },
  {
   "cell_type": "code",
   "execution_count": 50,
   "metadata": {},
   "outputs": [],
   "source": [
    "#START HERE for location set makes new dataset with locations (only for tweets with location data)\n",
    "tweets_loc = trump.append(biden) #adds trump and biden hashtag data into a single dataframe shape = (1747805, 21)\n",
    "\n",
    "tweets_loc = tweets_loc.drop_duplicates(subset = 'tweet_id') #drops overlapping tweets (hashtag for both Trump and Biden) shape = (1522909, 21)\n",
    "\n",
    "US = tweets_loc['country'] == 'United States of America' #selects only USA tweets\n",
    "\n",
    "tweets_USA = tweets_loc[US] #shape = (301341, 21)\n",
    "\n",
    "\n",
    "tweets_loc=tweets_loc.drop(['country'], axis=1).reset_index() #drops extra columns we wont use shape = (301341, 10)\n",
    "tweets_USA=tweets_USA.drop(['country'], axis=1).reset_index()"
   ]
  },
  {
   "cell_type": "code",
   "execution_count": 31,
   "metadata": {},
   "outputs": [
    {
     "data": {
      "text/plain": [
       "(301329, 15)"
      ]
     },
     "execution_count": 31,
     "metadata": {},
     "output_type": "execute_result"
    }
   ],
   "source": []
  },
  {
   "cell_type": "code",
   "execution_count": null,
   "metadata": {},
   "outputs": [],
   "source": []
  },
  {
   "cell_type": "markdown",
   "metadata": {},
   "source": [
    "## Pre processing the tweets"
   ]
  },
  {
   "cell_type": "code",
   "execution_count": 53,
   "metadata": {},
   "outputs": [
    {
     "data": {
      "text/plain": [
       "Unnamed: 0     int64\n",
       "0             object\n",
       "dtype: object"
      ]
     },
     "execution_count": 53,
     "metadata": {},
     "output_type": "execute_result"
    }
   ],
   "source": [
    "processed = pd.read_csv(\"D:\\Codes\\PROJECT 2\\processed.csv\")\n",
    "processed_USA=pd.read_csv(\"D:\\Codes\\PROJECT 2\\processed_usa.csv\")\n",
    "processed_USA.dtypes"
   ]
  },
  {
   "cell_type": "markdown",
   "metadata": {},
   "source": [
    "### ATTENTION: (This cell creates the processed.csv file. If you have the processed.csv file imported you donot need to run this part of the notebook. let it stay as a markdown cell)"
   ]
  },
  {
   "cell_type": "markdown",
   "metadata": {},
   "source": [
    "def process_tweet(tweet):\n",
    "    \"\"\"Process tweet function.\n",
    "    Input:\n",
    "        tweet: a string containing a tweet\n",
    "    Output:\n",
    "        tweets_clean: a list of words containing the processed tweet\n",
    "\n",
    "    \"\"\"\n",
    "    stemmer = PorterStemmer()\n",
    "    stopwords_english = stopwords.words('english')\n",
    "    # remove stock market tickers like $GE\n",
    "    tweet = re.sub(r'\\$\\w*', '', tweet)\n",
    "    # remove old style retweet text \"RT\"\n",
    "    tweet = re.sub(r'^RT[\\s]+', '', tweet)\n",
    "    # remove hyperlinks\n",
    "    tweet = re.sub(r'https?:\\/\\/.*[\\r\\n]*', '', tweet)\n",
    "    # remove hashtags\n",
    "    # only removing the hash # sign from the word\n",
    "    tweet = re.sub(r'#', '', tweet)\n",
    "    \n",
    "    # tokenize tweets\n",
    "    tokenizer = TweetTokenizer(preserve_case=False, strip_handles=True,\n",
    "                               reduce_len=True)\n",
    "    tweet_tokens = tokenizer.tokenize(tweet)\n",
    "\n",
    "    tweets_clean = []\n",
    "    for word in tweet_tokens:\n",
    "        if (word not in stopwords_english and  # remove stopwords\n",
    "                word not in string.punctuation):  # remove punctuation\n",
    "            # tweets_clean.append(word)\n",
    "            stem_word = stemmer.stem(word)  # stemming word\n",
    "            tweets_clean.append(stem_word)\n",
    "\n",
    "    return tweets_clean\n",
    "    \n",
    "# Applying the above made function on all of the data set. (This is a very resource intensive task. Run at your own risk)\n",
    "\n",
    "x={}    # Inititalizing a new dictionary to store the values in\n",
    "i=0     # A seperate iterator to avoid a double for loop\n",
    "for tweet in tweets_USA['tweet']:\n",
    "    x[i]=process_tweet(tweet)\n",
    "    i+=1\n",
    "\n",
    "s = pd.Series(x)\n",
    "\n",
    "type(s)\n",
    "\n",
    "s.to_csv(r\"D:\\Codes\\PROJECT 2\\processed_usa.csv\")"
   ]
  },
  {
   "cell_type": "markdown",
   "metadata": {},
   "source": [
    "## Adaptation\n",
    "+ Creating a new column that checks the time remaining until elections to check for relevance of the tweet\n"
   ]
  },
  {
   "cell_type": "code",
   "execution_count": 54,
   "metadata": {},
   "outputs": [],
   "source": [
    "\n",
    "created_at = tweets_USA['created_at']\n",
    "countdown = []\n",
    "for i in range(len(created_at)):\n",
    "    time = dparser.parse(created_at[i])\n",
    "    election = datetime(2020, 11, 3)\n",
    "    newtime = (election - time).days\n",
    "    countdown.append(newtime)\n",
    "tweets_USA['countdown'] = countdown"
   ]
  },
  {
   "cell_type": "code",
   "execution_count": 55,
   "metadata": {},
   "outputs": [],
   "source": [
    "joined = tweets_USA['user_join_date']\n",
    "account = tweets_USA['created_at']\n",
    "agelist = []\n",
    "for i in range(len(joined)):\n",
    "    time = dparser.parse(joined[i])\n",
    "    created = dparser.parse(account[i])\n",
    "    newtime = (created-time).days\n",
    "    agelist.append(newtime)\n",
    "tweets_USA['age'] = agelist\n",
    "tweets_USA = tweets_USA.drop(['created_at', 'index', 'user_join_date'], axis = 1)"
   ]
  },
  {
   "cell_type": "code",
   "execution_count": 58,
   "metadata": {},
   "outputs": [
    {
     "data": {
      "text/html": [
       "<div>\n",
       "<style scoped>\n",
       "    .dataframe tbody tr th:only-of-type {\n",
       "        vertical-align: middle;\n",
       "    }\n",
       "\n",
       "    .dataframe tbody tr th {\n",
       "        vertical-align: top;\n",
       "    }\n",
       "\n",
       "    .dataframe thead th {\n",
       "        text-align: right;\n",
       "    }\n",
       "</style>\n",
       "<table border=\"1\" class=\"dataframe\">\n",
       "  <thead>\n",
       "    <tr style=\"text-align: right;\">\n",
       "      <th></th>\n",
       "      <th>tweet_id</th>\n",
       "      <th>tweet</th>\n",
       "      <th>likes</th>\n",
       "      <th>retweet_count</th>\n",
       "      <th>source</th>\n",
       "      <th>user_id</th>\n",
       "      <th>user_name</th>\n",
       "      <th>user_screen_name</th>\n",
       "      <th>user_followers_count</th>\n",
       "      <th>user_location</th>\n",
       "      <th>collected_at</th>\n",
       "      <th>candidate</th>\n",
       "      <th>countdown</th>\n",
       "      <th>age</th>\n",
       "    </tr>\n",
       "  </thead>\n",
       "  <tbody>\n",
       "    <tr>\n",
       "      <th>0</th>\n",
       "      <td>1.316529e+18</td>\n",
       "      <td>#Elecciones2020 | En #Florida: #JoeBiden dice ...</td>\n",
       "      <td>0.0</td>\n",
       "      <td>0.0</td>\n",
       "      <td>TweetDeck</td>\n",
       "      <td>3.606665e+08</td>\n",
       "      <td>El Sol Latino News</td>\n",
       "      <td>elsollatinonews</td>\n",
       "      <td>1860.0</td>\n",
       "      <td>Philadelphia, PA / Miami, FL</td>\n",
       "      <td>2020-10-21 00:00:00</td>\n",
       "      <td>T</td>\n",
       "      <td>18</td>\n",
       "      <td>3340</td>\n",
       "    </tr>\n",
       "    <tr>\n",
       "      <th>1</th>\n",
       "      <td>1.316529e+18</td>\n",
       "      <td>#Trump: As a student I used to hear for years,...</td>\n",
       "      <td>2.0</td>\n",
       "      <td>1.0</td>\n",
       "      <td>Twitter Web App</td>\n",
       "      <td>8.436472e+06</td>\n",
       "      <td>snarke</td>\n",
       "      <td>snarke</td>\n",
       "      <td>1185.0</td>\n",
       "      <td>Portland</td>\n",
       "      <td>2020-10-21 00:00:00.746433060</td>\n",
       "      <td>T</td>\n",
       "      <td>18</td>\n",
       "      <td>4798</td>\n",
       "    </tr>\n",
       "    <tr>\n",
       "      <th>2</th>\n",
       "      <td>1.316529e+18</td>\n",
       "      <td>You get a tie! And you get a tie! #Trump ‘s ra...</td>\n",
       "      <td>4.0</td>\n",
       "      <td>3.0</td>\n",
       "      <td>Twitter for iPhone</td>\n",
       "      <td>4.741380e+07</td>\n",
       "      <td>Rana Abtar - رنا أبتر</td>\n",
       "      <td>Ranaabtar</td>\n",
       "      <td>5393.0</td>\n",
       "      <td>Washington DC</td>\n",
       "      <td>2020-10-21 00:00:01.492866121</td>\n",
       "      <td>T</td>\n",
       "      <td>18</td>\n",
       "      <td>4139</td>\n",
       "    </tr>\n",
       "    <tr>\n",
       "      <th>3</th>\n",
       "      <td>1.316529e+18</td>\n",
       "      <td>@CLady62 Her 15 minutes were over long time ag...</td>\n",
       "      <td>2.0</td>\n",
       "      <td>0.0</td>\n",
       "      <td>Twitter for Android</td>\n",
       "      <td>1.138416e+09</td>\n",
       "      <td>Farris Flagg</td>\n",
       "      <td>FarrisFlagg</td>\n",
       "      <td>2363.0</td>\n",
       "      <td>Perris,California</td>\n",
       "      <td>2020-10-21 00:00:01.866082651</td>\n",
       "      <td>T</td>\n",
       "      <td>18</td>\n",
       "      <td>2812</td>\n",
       "    </tr>\n",
       "    <tr>\n",
       "      <th>4</th>\n",
       "      <td>1.316529e+18</td>\n",
       "      <td>@DeeviousDenise @realDonaldTrump @nypost There...</td>\n",
       "      <td>0.0</td>\n",
       "      <td>0.0</td>\n",
       "      <td>Twitter for iPhone</td>\n",
       "      <td>9.007611e+17</td>\n",
       "      <td>Stacey Gulledge 🇺🇸 Patriot ♥️ KAG 🙏 👮‍♀️♥️</td>\n",
       "      <td>sm_gulledge</td>\n",
       "      <td>766.0</td>\n",
       "      <td>Ohio, USA</td>\n",
       "      <td>2020-10-21 00:00:02.612515712</td>\n",
       "      <td>T</td>\n",
       "      <td>18</td>\n",
       "      <td>1147</td>\n",
       "    </tr>\n",
       "  </tbody>\n",
       "</table>\n",
       "</div>"
      ],
      "text/plain": [
       "       tweet_id                                              tweet  likes  \\\n",
       "0  1.316529e+18  #Elecciones2020 | En #Florida: #JoeBiden dice ...    0.0   \n",
       "1  1.316529e+18  #Trump: As a student I used to hear for years,...    2.0   \n",
       "2  1.316529e+18  You get a tie! And you get a tie! #Trump ‘s ra...    4.0   \n",
       "3  1.316529e+18  @CLady62 Her 15 minutes were over long time ag...    2.0   \n",
       "4  1.316529e+18  @DeeviousDenise @realDonaldTrump @nypost There...    0.0   \n",
       "\n",
       "   retweet_count               source       user_id  \\\n",
       "0            0.0            TweetDeck  3.606665e+08   \n",
       "1            1.0      Twitter Web App  8.436472e+06   \n",
       "2            3.0   Twitter for iPhone  4.741380e+07   \n",
       "3            0.0  Twitter for Android  1.138416e+09   \n",
       "4            0.0   Twitter for iPhone  9.007611e+17   \n",
       "\n",
       "                                    user_name user_screen_name  \\\n",
       "0                          El Sol Latino News  elsollatinonews   \n",
       "1                                      snarke           snarke   \n",
       "2                       Rana Abtar - رنا أبتر        Ranaabtar   \n",
       "3                                Farris Flagg      FarrisFlagg   \n",
       "4  Stacey Gulledge 🇺🇸 Patriot ♥️ KAG 🙏 👮‍♀️♥️      sm_gulledge   \n",
       "\n",
       "   user_followers_count                 user_location  \\\n",
       "0                1860.0  Philadelphia, PA / Miami, FL   \n",
       "1                1185.0                      Portland   \n",
       "2                5393.0                 Washington DC   \n",
       "3                2363.0             Perris,California   \n",
       "4                 766.0                     Ohio, USA   \n",
       "\n",
       "                    collected_at candidate  countdown   age  \n",
       "0            2020-10-21 00:00:00         T         18  3340  \n",
       "1  2020-10-21 00:00:00.746433060         T         18  4798  \n",
       "2  2020-10-21 00:00:01.492866121         T         18  4139  \n",
       "3  2020-10-21 00:00:01.866082651         T         18  2812  \n",
       "4  2020-10-21 00:00:02.612515712         T         18  1147  "
      ]
     },
     "execution_count": 58,
     "metadata": {},
     "output_type": "execute_result"
    }
   ],
   "source": [
    "tweets_USA.head()"
   ]
  },
  {
   "cell_type": "code",
   "execution_count": null,
   "metadata": {},
   "outputs": [],
   "source": []
  }
 ],
 "metadata": {
  "interpreter": {
   "hash": "f54b37df60922bf9004f875190b152fc8aec9878039a93ede93ec8983c432aa5"
  },
  "kernelspec": {
   "display_name": "Python 3.9.7 64-bit ('env1': conda)",
   "name": "python3"
  },
  "language_info": {
   "codemirror_mode": {
    "name": "ipython",
    "version": 3
   },
   "file_extension": ".py",
   "mimetype": "text/x-python",
   "name": "python",
   "nbconvert_exporter": "python",
   "pygments_lexer": "ipython3",
   "version": "3.9.7"
  },
  "orig_nbformat": 4
 },
 "nbformat": 4,
 "nbformat_minor": 2
}
